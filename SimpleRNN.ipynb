{
  "nbformat": 4,
  "nbformat_minor": 0,
  "metadata": {
    "colab": {
      "name": "SimpleRNN.ipynb",
      "provenance": [],
      "collapsed_sections": [],
      "authorship_tag": "ABX9TyNAqJ6uroEDEl8Z+XBB33Od"
    },
    "kernelspec": {
      "name": "python3",
      "display_name": "Python 3"
    },
    "language_info": {
      "name": "python"
    },
    "accelerator": "GPU"
  },
  "cells": [
    {
      "cell_type": "code",
      "metadata": {
        "id": "fad7wsPw1JBe"
      },
      "source": [
        "from tensorflow.keras.datasets import imdb\n",
        "\n",
        "(train_input, train_target), (test_input, test_target) = imdb.load_data(num_words=500)"
      ],
      "execution_count": null,
      "outputs": []
    },
    {
      "cell_type": "code",
      "metadata": {
        "colab": {
          "base_uri": "https://localhost:8080/"
        },
        "id": "-Wqe9n3y1tUF",
        "outputId": "701083fb-3fb7-4f5a-83ec-481d20fc09ce"
      },
      "source": [
        "print(train_input.shape, test_input.shape)"
      ],
      "execution_count": null,
      "outputs": [
        {
          "output_type": "stream",
          "name": "stdout",
          "text": [
            "(25000,) (25000,)\n"
          ]
        }
      ]
    },
    {
      "cell_type": "code",
      "metadata": {
        "colab": {
          "base_uri": "https://localhost:8080/"
        },
        "id": "R_OCSn9A11sv",
        "outputId": "6f29ce55-22e9-4296-98c1-778f6b3fe082"
      },
      "source": [
        "print(len(train_input[0]))\n",
        "print(len(train_input[1]))"
      ],
      "execution_count": null,
      "outputs": [
        {
          "output_type": "stream",
          "name": "stdout",
          "text": [
            "218\n",
            "189\n"
          ]
        }
      ]
    },
    {
      "cell_type": "code",
      "metadata": {
        "colab": {
          "base_uri": "https://localhost:8080/"
        },
        "id": "BY7CRgHp156n",
        "outputId": "c5f5a02c-52a7-4818-fbb3-96088f615b60"
      },
      "source": [
        "print(train_input[0])"
      ],
      "execution_count": null,
      "outputs": [
        {
          "output_type": "stream",
          "name": "stdout",
          "text": [
            "[1, 14, 22, 16, 43, 2, 2, 2, 2, 65, 458, 2, 66, 2, 4, 173, 36, 256, 5, 25, 100, 43, 2, 112, 50, 2, 2, 9, 35, 480, 284, 5, 150, 4, 172, 112, 167, 2, 336, 385, 39, 4, 172, 2, 2, 17, 2, 38, 13, 447, 4, 192, 50, 16, 6, 147, 2, 19, 14, 22, 4, 2, 2, 469, 4, 22, 71, 87, 12, 16, 43, 2, 38, 76, 15, 13, 2, 4, 22, 17, 2, 17, 12, 16, 2, 18, 2, 5, 62, 386, 12, 8, 316, 8, 106, 5, 4, 2, 2, 16, 480, 66, 2, 33, 4, 130, 12, 16, 38, 2, 5, 25, 124, 51, 36, 135, 48, 25, 2, 33, 6, 22, 12, 215, 28, 77, 52, 5, 14, 407, 16, 82, 2, 8, 4, 107, 117, 2, 15, 256, 4, 2, 7, 2, 5, 2, 36, 71, 43, 2, 476, 26, 400, 317, 46, 7, 4, 2, 2, 13, 104, 88, 4, 381, 15, 297, 98, 32, 2, 56, 26, 141, 6, 194, 2, 18, 4, 226, 22, 21, 134, 476, 26, 480, 5, 144, 30, 2, 18, 51, 36, 28, 224, 92, 25, 104, 4, 226, 65, 16, 38, 2, 88, 12, 16, 283, 5, 16, 2, 113, 103, 32, 15, 16, 2, 19, 178, 32]\n"
          ]
        }
      ]
    },
    {
      "cell_type": "code",
      "metadata": {
        "colab": {
          "base_uri": "https://localhost:8080/"
        },
        "id": "dE5Uz97N2u-t",
        "outputId": "b605cc81-b05a-45e9-96a8-8f71d9c6b9ad"
      },
      "source": [
        "print(train_target[:20])"
      ],
      "execution_count": null,
      "outputs": [
        {
          "output_type": "stream",
          "name": "stdout",
          "text": [
            "[1 0 0 1 0 0 1 0 1 0 1 0 0 0 0 0 1 1 0 1]\n"
          ]
        }
      ]
    },
    {
      "cell_type": "code",
      "metadata": {
        "id": "czL5I2wt29lP"
      },
      "source": [
        "from sklearn.model_selection import train_test_split\n",
        "\n",
        "train_input, val_input, train_target, val_target = \\\n",
        "    train_test_split(train_input, train_target, test_size=0.2, random_state=42)"
      ],
      "execution_count": null,
      "outputs": []
    },
    {
      "cell_type": "code",
      "metadata": {
        "id": "mjw0JTj43OO5"
      },
      "source": [
        "import numpy as np\n",
        "\n",
        "lengths = np.array([len(x) for x in train_input])"
      ],
      "execution_count": null,
      "outputs": []
    },
    {
      "cell_type": "code",
      "metadata": {
        "colab": {
          "base_uri": "https://localhost:8080/"
        },
        "id": "e0r_LEEk3YiG",
        "outputId": "1b64f78a-a9f1-4022-b1bb-4971a20083b1"
      },
      "source": [
        "print(np.mean(lengths), np.median(lengths))"
      ],
      "execution_count": null,
      "outputs": [
        {
          "output_type": "stream",
          "name": "stdout",
          "text": [
            "239.00925 178.0\n"
          ]
        }
      ]
    },
    {
      "cell_type": "code",
      "metadata": {
        "colab": {
          "base_uri": "https://localhost:8080/",
          "height": 279
        },
        "id": "HZMCbDVL3di7",
        "outputId": "c3758aff-11e0-4f1d-e41d-c70d43bfe597"
      },
      "source": [
        "import matplotlib.pyplot as plt\n",
        "\n",
        "plt.hist(lengths)\n",
        "plt.xlabel('length')\n",
        "plt.ylabel('frequency')\n",
        "plt.show()"
      ],
      "execution_count": null,
      "outputs": [
        {
          "output_type": "display_data",
          "data": {
            "image/png": "[encoded data removed]",
            "text/plain": [
              "<Figure size 432x288 with 1 Axes>"
            ]
          },
          "metadata": {
            "needs_background": "light"
          }
        }
      ]
    },
    {
      "cell_type": "code",
      "metadata": {
        "id": "SWPDtedQ30Vu"
      },
      "source": [
        "from tensorflow.keras.preprocessing.sequence import pad_sequences\n",
        "train_seq = pad_sequences(train_input, maxlen = 100)"
      ],
      "execution_count": null,
      "outputs": []
    },
    {
      "cell_type": "code",
      "metadata": {
        "colab": {
          "base_uri": "https://localhost:8080/"
        },
        "id": "axfEMOUv4QGe",
        "outputId": "427280ab-1fda-4114-b0f0-782029edfac5"
      },
      "source": [
        "print(train_seq.shape)"
      ],
      "execution_count": null,
      "outputs": [
        {
          "output_type": "stream",
          "name": "stdout",
          "text": [
            "(20000, 100)\n"
          ]
        }
      ]
    },
    {
      "cell_type": "code",
      "metadata": {
        "colab": {
          "base_uri": "https://localhost:8080/"
        },
        "id": "KwP05ZZq4WBD",
        "outputId": "ce96a526-6de8-40fa-938f-031303b9f60b"
      },
      "source": [
        "print(train_seq[0])"
      ],
      "execution_count": null,
      "outputs": [
        {
          "output_type": "stream",
          "name": "stdout",
          "text": [
            "[ 10   4  20   9   2 364 352   5  45   6   2   2  33 269   8   2 142   2\n",
            "   5   2  17  73  17 204   5   2  19  55   2   2  92  66 104  14  20  93\n",
            "  76   2 151  33   4  58  12 188   2 151  12 215  69 224 142  73 237   6\n",
            "   2   7   2   2 188   2 103  14  31  10  10 451   7   2   5   2  80  91\n",
            "   2  30   2  34  14  20 151  50  26 131  49   2  84  46  50  37  80  79\n",
            "   6   2  46   7  14  20  10  10 470 158]\n"
          ]
        }
      ]
    },
    {
      "cell_type": "code",
      "metadata": {
        "colab": {
          "base_uri": "https://localhost:8080/"
        },
        "id": "GgZ3nl_e4og1",
        "outputId": "4a24d09b-a44a-4933-b23f-2f05edfe366f"
      },
      "source": [
        "print(train_input[0][-10:])"
      ],
      "execution_count": null,
      "outputs": [
        {
          "output_type": "stream",
          "name": "stdout",
          "text": [
            "[6, 2, 46, 7, 14, 20, 10, 10, 470, 158]\n"
          ]
        }
      ]
    },
    {
      "cell_type": "code",
      "metadata": {
        "colab": {
          "base_uri": "https://localhost:8080/"
        },
        "id": "lkQ8brgv4sxv",
        "outputId": "832750eb-de56-44fc-c46b-373a2161e6d0"
      },
      "source": [
        "print(train_seq[5])"
      ],
      "execution_count": null,
      "outputs": [
        {
          "output_type": "stream",
          "name": "stdout",
          "text": [
            "[  0   0   0   0   1   2 195  19  49   2   2 190   4   2 352   2 183  10\n",
            "  10  13  82  79   4   2  36  71 269   8   2  25  19  49   7   4   2   2\n",
            "   2   2   2  10  10  48  25  40   2  11   2   2  40   2   2   5   4   2\n",
            "   2  95  14 238  56 129   2  10  10  21   2  94 364 352   2   2  11 190\n",
            "  24 484   2   7  94 205 405  10  10  87   2  34  49   2   7   2   2   2\n",
            "   2   2 290   2  46  48  64  18   4   2]\n"
          ]
        }
      ]
    },
    {
      "cell_type": "code",
      "metadata": {
        "id": "Qd33gzpr40nQ"
      },
      "source": [
        "val_seq = pad_sequences(val_input, maxlen = 100)"
      ],
      "execution_count": null,
      "outputs": []
    },
    {
      "cell_type": "code",
      "metadata": {
        "id": "VtM1YUX349Pi"
      },
      "source": [
        "from tensorflow import keras\n",
        "from keras import Sequential\n",
        "from keras.layers import SimpleRNN, Dense\n",
        "\n",
        "from keras.callbacks import ModelCheckpoint, EarlyStopping"
      ],
      "execution_count": null,
      "outputs": []
    },
    {
      "cell_type": "code",
      "metadata": {
        "id": "fKISW4F85KlG"
      },
      "source": [
        "model = Sequential()\n",
        "model.add(SimpleRNN(8, input_shape = (100, 500)))\n",
        "model.add(Dense(1, activation = 'sigmoid'))"
      ],
      "execution_count": null,
      "outputs": []
    },
    {
      "cell_type": "code",
      "metadata": {
        "id": "8l9H1gQo6D1g"
      },
      "source": [
        "train_oh = keras.utils.to_categorical(train_seq)"
      ],
      "execution_count": null,
      "outputs": []
    },
    {
      "cell_type": "code",
      "metadata": {
        "colab": {
          "base_uri": "https://localhost:8080/"
        },
        "id": "_B93gdb76RpP",
        "outputId": "d054705f-ee53-4ba0-de64-436d7543253b"
      },
      "source": [
        "print(train_oh.shape)"
      ],
      "execution_count": null,
      "outputs": [
        {
          "output_type": "stream",
          "name": "stdout",
          "text": [
            "(20000, 100, 500)\n"
          ]
        }
      ]
    },
    {
      "cell_type": "code",
      "metadata": {
        "colab": {
          "base_uri": "https://localhost:8080/"
        },
        "id": "FecxYTtQ6coA",
        "outputId": "05f821e5-3ec8-441e-f754-4ea12f4fcf83"
      },
      "source": [
        "print(train_oh[0][0][:12])"
      ],
      "execution_count": null,
      "outputs": [
        {
          "output_type": "stream",
          "name": "stdout",
          "text": [
            "[0. 0. 0. 0. 0. 0. 0. 0. 0. 0. 1. 0.]\n"
          ]
        }
      ]
    },
    {
      "cell_type": "code",
      "metadata": {
        "colab": {
          "base_uri": "https://localhost:8080/"
        },
        "id": "VNu1_GEC6nj9",
        "outputId": "fa078b2c-2914-4a53-81d4-e07f34ff38ac"
      },
      "source": [
        "print(np.sum(train_oh[0][0]))"
      ],
      "execution_count": null,
      "outputs": [
        {
          "output_type": "stream",
          "name": "stdout",
          "text": [
            "1.0\n"
          ]
        }
      ]
    },
    {
      "cell_type": "code",
      "metadata": {
        "id": "Nm0Lqriw6qXt"
      },
      "source": [
        "val_oh = keras.utils.to_categorical(val_seq)"
      ],
      "execution_count": null,
      "outputs": []
    },
    {
      "cell_type": "code",
      "metadata": {
        "colab": {
          "base_uri": "https://localhost:8080/"
        },
        "id": "CcgvakPC6ysu",
        "outputId": "e1a537e4-15c6-41fe-d19d-3a15f879ebd4"
      },
      "source": [
        "model.summary()"
      ],
      "execution_count": null,
      "outputs": [
        {
          "output_type": "stream",
          "name": "stdout",
          "text": [
            "Model: \"sequential\"\n",
            "_________________________________________________________________\n",
            "Layer (type)                 Output Shape              Param #   \n",
            "=================================================================\n",
            "simple_rnn (SimpleRNN)       (None, 8)                 4072      \n",
            "_________________________________________________________________\n",
            "dense (Dense)                (None, 1)                 9         \n",
            "=================================================================\n",
            "Total params: 4,081\n",
            "Trainable params: 4,081\n",
            "Non-trainable params: 0\n",
            "_________________________________________________________________\n"
          ]
        }
      ]
    },
    {
      "cell_type": "code",
      "metadata": {
        "colab": {
          "base_uri": "https://localhost:8080/"
        },
        "id": "vKWYM6xs8SLc",
        "outputId": "46f34fc7-ac56-46fc-df9f-23773de500af"
      },
      "source": [
        "rmsprop = keras.optimizers.RMSprop(learning_rate = 0.0001)\n",
        "\n",
        "model.compile(optimizer = rmsprop, loss = 'binary_crossentropy',\n",
        "              metrics = ['accuracy'])\n",
        "\n",
        "checkpoint_cb = ModelCheckpoint('best_simplernn-model.h5', save_best_only=True)\n",
        "earlystopping_cb = EarlyStopping(patience = 3, restore_best_weights = True)\n",
        "\n",
        "history = model.fit(train_oh, train_target, epochs = 100, batch_size = 64,\n",
        "                    validation_data = (val_oh, val_target),\n",
        "                    callbacks = [checkpoint_cb, earlystopping_cb])"
      ],
      "execution_count": null,
      "outputs": [
        {
          "output_type": "stream",
          "name": "stdout",
          "text": [
            "Epoch 1/100\n",
            "313/313 [==============================] - 43s 127ms/step - loss: 0.6953 - accuracy: 0.5164 - val_loss: 0.6883 - val_accuracy: 0.5486\n",
            "Epoch 2/100\n",
            "313/313 [==============================] - 41s 131ms/step - loss: 0.6725 - accuracy: 0.5925 - val_loss: 0.6652 - val_accuracy: 0.6084\n",
            "Epoch 3/100\n",
            "313/313 [==============================] - 40s 126ms/step - loss: 0.6488 - accuracy: 0.6388 - val_loss: 0.6443 - val_accuracy: 0.6454\n",
            "Epoch 4/100\n",
            "313/313 [==============================] - 41s 131ms/step - loss: 0.6253 - accuracy: 0.6760 - val_loss: 0.6234 - val_accuracy: 0.6766\n",
            "Epoch 5/100\n",
            "313/313 [==============================] - 39s 126ms/step - loss: 0.6042 - accuracy: 0.7000 - val_loss: 0.6059 - val_accuracy: 0.6982\n",
            "Epoch 6/100\n",
            "313/313 [==============================] - 39s 125ms/step - loss: 0.5857 - accuracy: 0.7171 - val_loss: 0.5892 - val_accuracy: 0.7072\n",
            "Epoch 7/100\n",
            "313/313 [==============================] - 39s 123ms/step - loss: 0.5685 - accuracy: 0.7326 - val_loss: 0.5736 - val_accuracy: 0.7242\n",
            "Epoch 8/100\n",
            "313/313 [==============================] - 38s 122ms/step - loss: 0.5534 - accuracy: 0.7440 - val_loss: 0.5594 - val_accuracy: 0.7312\n",
            "Epoch 9/100\n",
            "313/313 [==============================] - 40s 127ms/step - loss: 0.5397 - accuracy: 0.7531 - val_loss: 0.5455 - val_accuracy: 0.7460\n",
            "Epoch 10/100\n",
            "313/313 [==============================] - 39s 123ms/step - loss: 0.5267 - accuracy: 0.7618 - val_loss: 0.5337 - val_accuracy: 0.7528\n",
            "Epoch 11/100\n",
            "313/313 [==============================] - 39s 125ms/step - loss: 0.5150 - accuracy: 0.7702 - val_loss: 0.5294 - val_accuracy: 0.7518\n",
            "Epoch 12/100\n",
            "313/313 [==============================] - 40s 126ms/step - loss: 0.5042 - accuracy: 0.7763 - val_loss: 0.5167 - val_accuracy: 0.7598\n",
            "Epoch 13/100\n",
            "313/313 [==============================] - 39s 125ms/step - loss: 0.4940 - accuracy: 0.7821 - val_loss: 0.5072 - val_accuracy: 0.7622\n",
            "Epoch 14/100\n",
            "313/313 [==============================] - 39s 124ms/step - loss: 0.4853 - accuracy: 0.7854 - val_loss: 0.5049 - val_accuracy: 0.7630\n",
            "Epoch 15/100\n",
            "313/313 [==============================] - 38s 121ms/step - loss: 0.4767 - accuracy: 0.7897 - val_loss: 0.4933 - val_accuracy: 0.7684\n",
            "Epoch 16/100\n",
            "313/313 [==============================] - 39s 125ms/step - loss: 0.4703 - accuracy: 0.7924 - val_loss: 0.4872 - val_accuracy: 0.7706\n",
            "Epoch 17/100\n",
            "313/313 [==============================] - 39s 124ms/step - loss: 0.4637 - accuracy: 0.7958 - val_loss: 0.4846 - val_accuracy: 0.7732\n",
            "Epoch 18/100\n",
            "313/313 [==============================] - 41s 130ms/step - loss: 0.4584 - accuracy: 0.7969 - val_loss: 0.4791 - val_accuracy: 0.7754\n",
            "Epoch 19/100\n",
            "313/313 [==============================] - 39s 125ms/step - loss: 0.4531 - accuracy: 0.8008 - val_loss: 0.4809 - val_accuracy: 0.7740\n",
            "Epoch 20/100\n",
            "313/313 [==============================] - 39s 124ms/step - loss: 0.4491 - accuracy: 0.8025 - val_loss: 0.4708 - val_accuracy: 0.7774\n",
            "Epoch 21/100\n",
            "313/313 [==============================] - 39s 125ms/step - loss: 0.4452 - accuracy: 0.8035 - val_loss: 0.4683 - val_accuracy: 0.7796\n",
            "Epoch 22/100\n",
            "313/313 [==============================] - 39s 124ms/step - loss: 0.4416 - accuracy: 0.8055 - val_loss: 0.4654 - val_accuracy: 0.7812\n",
            "Epoch 23/100\n",
            "313/313 [==============================] - 39s 125ms/step - loss: 0.4394 - accuracy: 0.8072 - val_loss: 0.4649 - val_accuracy: 0.7844\n",
            "Epoch 24/100\n",
            "313/313 [==============================] - 40s 126ms/step - loss: 0.4364 - accuracy: 0.8061 - val_loss: 0.4631 - val_accuracy: 0.7852\n",
            "Epoch 25/100\n",
            "313/313 [==============================] - 40s 127ms/step - loss: 0.4338 - accuracy: 0.8089 - val_loss: 0.4623 - val_accuracy: 0.7864\n",
            "Epoch 26/100\n",
            "313/313 [==============================] - 41s 130ms/step - loss: 0.4318 - accuracy: 0.8102 - val_loss: 0.4674 - val_accuracy: 0.7848\n",
            "Epoch 27/100\n",
            "313/313 [==============================] - 39s 124ms/step - loss: 0.4292 - accuracy: 0.8112 - val_loss: 0.4569 - val_accuracy: 0.7896\n",
            "Epoch 28/100\n",
            "313/313 [==============================] - 41s 130ms/step - loss: 0.4270 - accuracy: 0.8133 - val_loss: 0.4608 - val_accuracy: 0.7868\n",
            "Epoch 29/100\n",
            "313/313 [==============================] - 40s 127ms/step - loss: 0.4250 - accuracy: 0.8140 - val_loss: 0.4586 - val_accuracy: 0.7876\n",
            "Epoch 30/100\n",
            "313/313 [==============================] - 41s 130ms/step - loss: 0.4237 - accuracy: 0.8144 - val_loss: 0.4599 - val_accuracy: 0.7894\n"
          ]
        }
      ]
    },
    {
      "cell_type": "code",
      "metadata": {
        "colab": {
          "base_uri": "https://localhost:8080/",
          "height": 279
        },
        "id": "BBsKFerF9Y9G",
        "outputId": "89484dc7-e21d-4cdb-de27-e11f9cbe3e8e"
      },
      "source": [
        " plt.plot(history.history['loss'])\n",
        " plt.plot(history.history['val_loss'])\n",
        " plt.xlabel('epoch')\n",
        " plt.ylabel('loss')\n",
        " plt.legend(['train', 'loss'])\n",
        " plt.show()"
      ],
      "execution_count": null,
      "outputs": [
        {
          "output_type": "display_data",
          "data": {
            "image/png": "[encoded data removed]",
            "text/plain": [
              "<Figure size 432x288 with 1 Axes>"
            ]
          },
          "metadata": {
            "needs_background": "light"
          }
        }
      ]
    },
    {
      "cell_type": "code",
      "metadata": {
        "colab": {
          "base_uri": "https://localhost:8080/"
        },
        "id": "CocJOZdhB4RG",
        "outputId": "de14786b-ea1e-4954-c8a0-8f0588031277"
      },
      "source": [
        "print(train_seq.nbytes, train_oh.nbytes)"
      ],
      "execution_count": null,
      "outputs": [
        {
          "output_type": "stream",
          "name": "stdout",
          "text": [
            "8000000 4000000000\n"
          ]
        }
      ]
    },
    {
      "cell_type": "code",
      "metadata": {
        "id": "3EaJiD20IeCu"
      },
      "source": [
        "from keras.layers import Embedding\n",
        "model2 = Sequential()\n",
        "model2.add(Embedding(500, 16, input_length = 100))\n",
        "model2.add(SimpleRNN(8))\n",
        "model2.add(Dense(1, activation = 'sigmoid'))"
      ],
      "execution_count": null,
      "outputs": []
    },
    {
      "cell_type": "code",
      "metadata": {
        "colab": {
          "base_uri": "https://localhost:8080/"
        },
        "id": "9gAci_i7IeJo",
        "outputId": "c190c792-5208-4cc6-93e2-a9130596cf7e"
      },
      "source": [
        "model2.summary()"
      ],
      "execution_count": null,
      "outputs": [
        {
          "output_type": "stream",
          "name": "stdout",
          "text": [
            "Model: \"sequential_1\"\n",
            "_________________________________________________________________\n",
            "Layer (type)                 Output Shape              Param #   \n",
            "=================================================================\n",
            "embedding (Embedding)        (None, 100, 16)           8000      \n",
            "_________________________________________________________________\n",
            "simple_rnn_1 (SimpleRNN)     (None, 8)                 200       \n",
            "_________________________________________________________________\n",
            "dense_1 (Dense)              (None, 1)                 9         \n",
            "=================================================================\n",
            "Total params: 8,209\n",
            "Trainable params: 8,209\n",
            "Non-trainable params: 0\n",
            "_________________________________________________________________\n"
          ]
        }
      ]
    },
    {
      "cell_type": "code",
      "metadata": {
        "id": "aZwtPHG5IeL7",
        "colab": {
          "base_uri": "https://localhost:8080/"
        },
        "outputId": "63c5cae9-04cc-41c3-c38b-ead291a6052f"
      },
      "source": [
        "rmsprop = keras.optimizers.RMSprop(learning_rate = 0.0001)\n",
        "\n",
        "model2.compile(optimizer = rmsprop, loss = 'binary_crossentropy',\n",
        "              metrics = ['accuracy'])\n",
        "\n",
        "checkpoint_cb = ModelCheckpoint('best_embedding-model.h5', save_best_only=True)\n",
        "earlystopping_cb = EarlyStopping(patience = 3, restore_best_weights = True)\n",
        "\n",
        "history = model2.fit(train_seq, train_target, epochs = 100, batch_size = 64,\n",
        "                    validation_data = (val_seq, val_target),\n",
        "                    callbacks = [checkpoint_cb, earlystopping_cb])"
      ],
      "execution_count": null,
      "outputs": [
        {
          "output_type": "stream",
          "name": "stdout",
          "text": [
            "Epoch 1/100\n",
            "313/313 [==============================] - 53s 164ms/step - loss: 0.6949 - accuracy: 0.5117 - val_loss: 0.6934 - val_accuracy: 0.5168\n",
            "Epoch 2/100\n",
            "313/313 [==============================] - 51s 163ms/step - loss: 0.6867 - accuracy: 0.5523 - val_loss: 0.6852 - val_accuracy: 0.5576\n",
            "Epoch 3/100\n",
            "313/313 [==============================] - 51s 163ms/step - loss: 0.6751 - accuracy: 0.6072 - val_loss: 0.6736 - val_accuracy: 0.6174\n",
            "Epoch 4/100\n",
            "313/313 [==============================] - 51s 163ms/step - loss: 0.6608 - accuracy: 0.6623 - val_loss: 0.6609 - val_accuracy: 0.6634\n",
            "Epoch 5/100\n",
            "313/313 [==============================] - 51s 164ms/step - loss: 0.6463 - accuracy: 0.7042 - val_loss: 0.6481 - val_accuracy: 0.6922\n",
            "Epoch 6/100\n",
            "313/313 [==============================] - 50s 160ms/step - loss: 0.6324 - accuracy: 0.7290 - val_loss: 0.6377 - val_accuracy: 0.7104\n",
            "Epoch 7/100\n",
            "313/313 [==============================] - 50s 161ms/step - loss: 0.6202 - accuracy: 0.7458 - val_loss: 0.6271 - val_accuracy: 0.7344\n",
            "Epoch 8/100\n",
            "313/313 [==============================] - 49s 158ms/step - loss: 0.6078 - accuracy: 0.7597 - val_loss: 0.6168 - val_accuracy: 0.7352\n",
            "Epoch 9/100\n",
            "313/313 [==============================] - 49s 158ms/step - loss: 0.5961 - accuracy: 0.7682 - val_loss: 0.6103 - val_accuracy: 0.7354\n",
            "Epoch 10/100\n",
            "313/313 [==============================] - 50s 159ms/step - loss: 0.5859 - accuracy: 0.7743 - val_loss: 0.6011 - val_accuracy: 0.7436\n",
            "Epoch 11/100\n",
            "313/313 [==============================] - 49s 158ms/step - loss: 0.5758 - accuracy: 0.7790 - val_loss: 0.5942 - val_accuracy: 0.7422\n",
            "Epoch 12/100\n",
            "313/313 [==============================] - 49s 158ms/step - loss: 0.5652 - accuracy: 0.7829 - val_loss: 0.5858 - val_accuracy: 0.7476\n",
            "Epoch 13/100\n",
            "313/313 [==============================] - 51s 162ms/step - loss: 0.5556 - accuracy: 0.7850 - val_loss: 0.5789 - val_accuracy: 0.7488\n",
            "Epoch 14/100\n",
            "313/313 [==============================] - 50s 161ms/step - loss: 0.5466 - accuracy: 0.7860 - val_loss: 0.5693 - val_accuracy: 0.7554\n",
            "Epoch 15/100\n",
            "313/313 [==============================] - 51s 162ms/step - loss: 0.5366 - accuracy: 0.7889 - val_loss: 0.5635 - val_accuracy: 0.7500\n",
            "Epoch 16/100\n",
            "313/313 [==============================] - 51s 164ms/step - loss: 0.5277 - accuracy: 0.7896 - val_loss: 0.5588 - val_accuracy: 0.7536\n",
            "Epoch 17/100\n",
            "313/313 [==============================] - 51s 165ms/step - loss: 0.5189 - accuracy: 0.7915 - val_loss: 0.5524 - val_accuracy: 0.7554\n",
            "Epoch 18/100\n",
            "313/313 [==============================] - 51s 164ms/step - loss: 0.5125 - accuracy: 0.7905 - val_loss: 0.5467 - val_accuracy: 0.7604\n",
            "Epoch 19/100\n",
            "313/313 [==============================] - 51s 164ms/step - loss: 0.5047 - accuracy: 0.7916 - val_loss: 0.5419 - val_accuracy: 0.7582\n",
            "Epoch 20/100\n",
            "313/313 [==============================] - 51s 164ms/step - loss: 0.4970 - accuracy: 0.7951 - val_loss: 0.5380 - val_accuracy: 0.7584\n",
            "Epoch 21/100\n",
            "313/313 [==============================] - 51s 163ms/step - loss: 0.4919 - accuracy: 0.7941 - val_loss: 0.5332 - val_accuracy: 0.7610\n",
            "Epoch 22/100\n",
            "313/313 [==============================] - 52s 166ms/step - loss: 0.4836 - accuracy: 0.7966 - val_loss: 0.5301 - val_accuracy: 0.7606\n",
            "Epoch 23/100\n",
            "313/313 [==============================] - 51s 164ms/step - loss: 0.4772 - accuracy: 0.7986 - val_loss: 0.5301 - val_accuracy: 0.7584\n",
            "Epoch 24/100\n",
            "313/313 [==============================] - 51s 164ms/step - loss: 0.4736 - accuracy: 0.7975 - val_loss: 0.5247 - val_accuracy: 0.7582\n",
            "Epoch 25/100\n",
            "313/313 [==============================] - 50s 161ms/step - loss: 0.4669 - accuracy: 0.8002 - val_loss: 0.5247 - val_accuracy: 0.7556\n",
            "Epoch 26/100\n",
            "313/313 [==============================] - 51s 162ms/step - loss: 0.4629 - accuracy: 0.8020 - val_loss: 0.5184 - val_accuracy: 0.7640\n",
            "Epoch 27/100\n",
            "313/313 [==============================] - 50s 159ms/step - loss: 0.4585 - accuracy: 0.8032 - val_loss: 0.5213 - val_accuracy: 0.7594\n",
            "Epoch 28/100\n",
            "313/313 [==============================] - 50s 161ms/step - loss: 0.4540 - accuracy: 0.8048 - val_loss: 0.5199 - val_accuracy: 0.7606\n",
            "Epoch 29/100\n",
            "313/313 [==============================] - 51s 163ms/step - loss: 0.4500 - accuracy: 0.8069 - val_loss: 0.5165 - val_accuracy: 0.7620\n",
            "Epoch 30/100\n",
            "313/313 [==============================] - 52s 165ms/step - loss: 0.4475 - accuracy: 0.8054 - val_loss: 0.5180 - val_accuracy: 0.7602\n",
            "Epoch 31/100\n",
            "313/313 [==============================] - 52s 165ms/step - loss: 0.4446 - accuracy: 0.8066 - val_loss: 0.5155 - val_accuracy: 0.7614\n",
            "Epoch 32/100\n",
            "313/313 [==============================] - 51s 163ms/step - loss: 0.4416 - accuracy: 0.8092 - val_loss: 0.5192 - val_accuracy: 0.7582\n",
            "Epoch 33/100\n",
            "313/313 [==============================] - 51s 162ms/step - loss: 0.4382 - accuracy: 0.8094 - val_loss: 0.5152 - val_accuracy: 0.7616\n",
            "Epoch 34/100\n",
            "313/313 [==============================] - 51s 164ms/step - loss: 0.4325 - accuracy: 0.8141 - val_loss: 0.5165 - val_accuracy: 0.7636\n",
            "Epoch 35/100\n",
            "313/313 [==============================] - 50s 160ms/step - loss: 0.4318 - accuracy: 0.8127 - val_loss: 0.5147 - val_accuracy: 0.7616\n",
            "Epoch 36/100\n",
            "313/313 [==============================] - 50s 159ms/step - loss: 0.4294 - accuracy: 0.8158 - val_loss: 0.5120 - val_accuracy: 0.7630\n",
            "Epoch 37/100\n",
            "313/313 [==============================] - 50s 159ms/step - loss: 0.4256 - accuracy: 0.8155 - val_loss: 0.5132 - val_accuracy: 0.7644\n",
            "Epoch 38/100\n",
            "313/313 [==============================] - 50s 161ms/step - loss: 0.4220 - accuracy: 0.8172 - val_loss: 0.5145 - val_accuracy: 0.7660\n",
            "Epoch 39/100\n",
            "313/313 [==============================] - 50s 160ms/step - loss: 0.4188 - accuracy: 0.8188 - val_loss: 0.5138 - val_accuracy: 0.7628\n"
          ]
        }
      ]
    },
    {
      "cell_type": "code",
      "metadata": {
        "id": "wZTEKW00IeOe",
        "colab": {
          "base_uri": "https://localhost:8080/",
          "height": 279
        },
        "outputId": "f0cfc602-189b-42b6-9cfa-3dd9ff7784e6"
      },
      "source": [
        " plt.plot(history.history['loss'])\n",
        " plt.plot(history.history['val_loss'])\n",
        " plt.xlabel('epoch')\n",
        " plt.ylabel('loss')\n",
        " plt.legend(['train', 'loss'])\n",
        " plt.show()"
      ],
      "execution_count": null,
      "outputs": [
        {
          "output_type": "display_data",
          "data": {
            "image/png": "[encoded data removed]",
            "text/plain": [
              "<Figure size 432x288 with 1 Axes>"
            ]
          },
          "metadata": {
            "needs_background": "light"
          }
        }
      ]
    }
  ]
}