{
  "nbformat": 4,
  "nbformat_minor": 0,
  "metadata": {
    "colab": {
      "name": "LSTM and  GRU.ipynb",
      "provenance": [],
      "authorship_tag": "ABX9TyOL12HmeJhPH/L+NGy/yg3R"
    },
    "kernelspec": {
      "name": "python3",
      "display_name": "Python 3"
    },
    "language_info": {
      "name": "python"
    },
    "accelerator": "GPU"
  },
  "cells": [
    {
      "cell_type": "code",
      "metadata": {
        "colab": {
          "base_uri": "https://localhost:8080/"
        },
        "id": "Zswi1xrMjrU7",
        "outputId": "b8a4fa0d-b5fe-44a1-d0c1-c4a6e6ede379"
      },
      "source": [
        "from tensorflow.keras.datasets import imdb\n",
        "from sklearn.model_selection import train_test_split\n",
        "\n",
        "(train_input, train_target), (test_input, test_target) = imdb.load_data(num_words=500)\n",
        "\n",
        "train_input, val_input, train_target, val_target = \\\n",
        "    train_test_split(train_input, train_target, test_size=0.2, random_state=42)"
      ],
      "execution_count": 1,
      "outputs": [
        {
          "output_type": "stream",
          "name": "stdout",
          "text": [
            "Downloading data from https://storage.googleapis.com/tensorflow/tf-keras-datasets/imdb.npz\n",
            "17465344/17464789 [==============================] - 0s 0us/step\n",
            "17473536/17464789 [==============================] - 0s 0us/step\n"
          ]
        }
      ]
    },
    {
      "cell_type": "code",
      "metadata": {
        "id": "GfDc3KDb1ZDn"
      },
      "source": [
        "from tensorflow.keras.preprocessing.sequence import pad_sequences\n",
        "\n",
        "train_seq = pad_sequences(train_input, maxlen = 100)\n",
        "val_seq = pad_sequences(val_input, maxlen = 100)"
      ],
      "execution_count": 2,
      "outputs": []
    },
    {
      "cell_type": "code",
      "metadata": {
        "id": "okGUuuwP1qZO"
      },
      "source": [
        "from tensorflow import keras\n",
        "from keras import Sequential\n",
        "from keras.layers import Embedding, LSTM, Dense"
      ],
      "execution_count": 3,
      "outputs": []
    },
    {
      "cell_type": "code",
      "metadata": {
        "id": "0P8JI2No106c"
      },
      "source": [
        "model = Sequential()\n",
        "model.add(Embedding(500, 16, input_length = 100))\n",
        "model.add(LSTM(8))\n",
        "model.add(Dense(1, activation = 'sigmoid'))"
      ],
      "execution_count": 4,
      "outputs": []
    },
    {
      "cell_type": "code",
      "metadata": {
        "colab": {
          "base_uri": "https://localhost:8080/"
        },
        "id": "4UMY-7tO2AQp",
        "outputId": "0a284691-1bae-42f9-bed6-bc8cbd6c23f1"
      },
      "source": [
        "model.summary()"
      ],
      "execution_count": 5,
      "outputs": [
        {
          "output_type": "stream",
          "name": "stdout",
          "text": [
            "Model: \"sequential\"\n",
            "_________________________________________________________________\n",
            "Layer (type)                 Output Shape              Param #   \n",
            "=================================================================\n",
            "embedding (Embedding)        (None, 100, 16)           8000      \n",
            "_________________________________________________________________\n",
            "lstm (LSTM)                  (None, 8)                 800       \n",
            "_________________________________________________________________\n",
            "dense (Dense)                (None, 1)                 9         \n",
            "=================================================================\n",
            "Total params: 8,809\n",
            "Trainable params: 8,809\n",
            "Non-trainable params: 0\n",
            "_________________________________________________________________\n"
          ]
        }
      ]
    },
    {
      "cell_type": "code",
      "metadata": {
        "id": "ym1TDnxR2aY-"
      },
      "source": [
        "from keras.callbacks import ModelCheckpoint, EarlyStopping"
      ],
      "execution_count": 7,
      "outputs": []
    },
    {
      "cell_type": "code",
      "metadata": {
        "colab": {
          "base_uri": "https://localhost:8080/"
        },
        "id": "0aU9LGo62DHD",
        "outputId": "8d911497-42b9-4d07-e50d-6fa827e285c3"
      },
      "source": [
        "rmsprop = keras.optimizers.RMSprop(learning_rate = 0.0001)\n",
        "\n",
        "model.compile(optimizer = rmsprop, loss = 'binary_crossentropy',\n",
        "              metrics = ['accuracy'])\n",
        "\n",
        "checkpoint_cb = ModelCheckpoint('best-lstm-model.h5', save_best_only=True)\n",
        "earlystopping_cb = EarlyStopping(patience = 3, restore_best_weights = True)\n",
        "\n",
        "history = model.fit(train_seq, train_target, epochs = 100, batch_size = 64,\n",
        "                    validation_data = (val_seq, val_target),\n",
        "                    callbacks = [checkpoint_cb, earlystopping_cb])"
      ],
      "execution_count": 8,
      "outputs": [
        {
          "output_type": "stream",
          "name": "stdout",
          "text": [
            "Epoch 1/100\n",
            "313/313 [==============================] - 14s 22ms/step - loss: 0.6928 - accuracy: 0.5279 - val_loss: 0.6920 - val_accuracy: 0.5892\n",
            "Epoch 2/100\n",
            "313/313 [==============================] - 6s 20ms/step - loss: 0.6908 - accuracy: 0.6127 - val_loss: 0.6890 - val_accuracy: 0.6372\n",
            "Epoch 3/100\n",
            "313/313 [==============================] - 6s 19ms/step - loss: 0.6844 - accuracy: 0.6599 - val_loss: 0.6761 - val_accuracy: 0.6990\n",
            "Epoch 4/100\n",
            "313/313 [==============================] - 6s 20ms/step - loss: 0.6406 - accuracy: 0.7103 - val_loss: 0.6087 - val_accuracy: 0.7010\n",
            "Epoch 5/100\n",
            "313/313 [==============================] - 6s 20ms/step - loss: 0.5947 - accuracy: 0.7171 - val_loss: 0.5858 - val_accuracy: 0.7240\n",
            "Epoch 6/100\n",
            "313/313 [==============================] - 6s 19ms/step - loss: 0.5729 - accuracy: 0.7337 - val_loss: 0.5696 - val_accuracy: 0.7288\n",
            "Epoch 7/100\n",
            "313/313 [==============================] - 6s 19ms/step - loss: 0.5524 - accuracy: 0.7509 - val_loss: 0.5489 - val_accuracy: 0.7496\n",
            "Epoch 8/100\n",
            "313/313 [==============================] - 6s 19ms/step - loss: 0.5343 - accuracy: 0.7593 - val_loss: 0.5332 - val_accuracy: 0.7540\n",
            "Epoch 9/100\n",
            "313/313 [==============================] - 6s 19ms/step - loss: 0.5174 - accuracy: 0.7696 - val_loss: 0.5187 - val_accuracy: 0.7610\n",
            "Epoch 10/100\n",
            "313/313 [==============================] - 6s 19ms/step - loss: 0.5023 - accuracy: 0.7788 - val_loss: 0.5063 - val_accuracy: 0.7628\n",
            "Epoch 11/100\n",
            "313/313 [==============================] - 6s 20ms/step - loss: 0.4883 - accuracy: 0.7849 - val_loss: 0.4938 - val_accuracy: 0.7690\n",
            "Epoch 12/100\n",
            "313/313 [==============================] - 6s 19ms/step - loss: 0.4761 - accuracy: 0.7876 - val_loss: 0.4827 - val_accuracy: 0.7746\n",
            "Epoch 13/100\n",
            "313/313 [==============================] - 6s 20ms/step - loss: 0.4651 - accuracy: 0.7950 - val_loss: 0.4737 - val_accuracy: 0.7780\n",
            "Epoch 14/100\n",
            "313/313 [==============================] - 6s 19ms/step - loss: 0.4556 - accuracy: 0.7981 - val_loss: 0.4654 - val_accuracy: 0.7814\n",
            "Epoch 15/100\n",
            "313/313 [==============================] - 6s 19ms/step - loss: 0.4477 - accuracy: 0.8007 - val_loss: 0.4591 - val_accuracy: 0.7856\n",
            "Epoch 16/100\n",
            "313/313 [==============================] - 6s 20ms/step - loss: 0.4405 - accuracy: 0.8051 - val_loss: 0.4529 - val_accuracy: 0.7930\n",
            "Epoch 17/100\n",
            "313/313 [==============================] - 6s 19ms/step - loss: 0.4347 - accuracy: 0.8065 - val_loss: 0.4480 - val_accuracy: 0.7944\n",
            "Epoch 18/100\n",
            "313/313 [==============================] - 6s 20ms/step - loss: 0.4298 - accuracy: 0.8074 - val_loss: 0.4433 - val_accuracy: 0.7954\n",
            "Epoch 19/100\n",
            "313/313 [==============================] - 6s 20ms/step - loss: 0.4254 - accuracy: 0.8094 - val_loss: 0.4420 - val_accuracy: 0.7982\n",
            "Epoch 20/100\n",
            "313/313 [==============================] - 6s 20ms/step - loss: 0.4218 - accuracy: 0.8111 - val_loss: 0.4374 - val_accuracy: 0.7984\n",
            "Epoch 21/100\n",
            "313/313 [==============================] - 6s 19ms/step - loss: 0.4187 - accuracy: 0.8113 - val_loss: 0.4354 - val_accuracy: 0.7980\n",
            "Epoch 22/100\n",
            "313/313 [==============================] - 6s 20ms/step - loss: 0.4162 - accuracy: 0.8120 - val_loss: 0.4342 - val_accuracy: 0.7996\n",
            "Epoch 23/100\n",
            "313/313 [==============================] - 6s 19ms/step - loss: 0.4139 - accuracy: 0.8133 - val_loss: 0.4330 - val_accuracy: 0.8032\n",
            "Epoch 24/100\n",
            "313/313 [==============================] - 6s 19ms/step - loss: 0.4120 - accuracy: 0.8144 - val_loss: 0.4316 - val_accuracy: 0.7994\n",
            "Epoch 25/100\n",
            "313/313 [==============================] - 6s 19ms/step - loss: 0.4103 - accuracy: 0.8135 - val_loss: 0.4300 - val_accuracy: 0.8028\n",
            "Epoch 26/100\n",
            "313/313 [==============================] - 6s 20ms/step - loss: 0.4089 - accuracy: 0.8137 - val_loss: 0.4320 - val_accuracy: 0.7960\n",
            "Epoch 27/100\n",
            "313/313 [==============================] - 6s 20ms/step - loss: 0.4076 - accuracy: 0.8134 - val_loss: 0.4288 - val_accuracy: 0.7984\n",
            "Epoch 28/100\n",
            "313/313 [==============================] - 6s 20ms/step - loss: 0.4065 - accuracy: 0.8150 - val_loss: 0.4291 - val_accuracy: 0.7996\n",
            "Epoch 29/100\n",
            "313/313 [==============================] - 6s 19ms/step - loss: 0.4055 - accuracy: 0.8164 - val_loss: 0.4299 - val_accuracy: 0.8054\n",
            "Epoch 30/100\n",
            "313/313 [==============================] - 6s 19ms/step - loss: 0.4045 - accuracy: 0.8164 - val_loss: 0.4298 - val_accuracy: 0.7960\n"
          ]
        }
      ]
    },
    {
      "cell_type": "code",
      "metadata": {
        "colab": {
          "base_uri": "https://localhost:8080/",
          "height": 279
        },
        "id": "Ht3dJUJj2YBd",
        "outputId": "d515d8e6-0aa9-46dd-e92e-e2f2a3e0958b"
      },
      "source": [
        " import matplotlib.pyplot as plt\n",
        " \n",
        " plt.plot(history.history['loss'])\n",
        " plt.plot(history.history['val_loss'])\n",
        " plt.xlabel('epoch')\n",
        " plt.ylabel('loss')\n",
        " plt.legend(['train', 'loss'])\n",
        " plt.show()"
      ],
      "execution_count": 9,
      "outputs": [
        {
          "output_type": "display_data",
          "data": {
            "image/png": "[encoded data removed]",
            "text/plain": [
              "<Figure size 432x288 with 1 Axes>"
            ]
          },
          "metadata": {
            "needs_background": "light"
          }
        }
      ]
    },
    {
      "cell_type": "code",
      "metadata": {
        "id": "XpPwijLA2w3p"
      },
      "source": [
        "model2 = Sequential()\n",
        "model2.add(Embedding(500, 16, input_length = 100))\n",
        "model2.add(LSTM(8, dropout = 0.3))\n",
        "model2.add(Dense(1, activation = 'sigmoid'))"
      ],
      "execution_count": 10,
      "outputs": []
    },
    {
      "cell_type": "code",
      "metadata": {
        "colab": {
          "base_uri": "https://localhost:8080/"
        },
        "id": "YsK_4hhq2515",
        "outputId": "4f43874c-2a7b-4242-a76e-1d310cb8ebc4"
      },
      "source": [
        "rmsprop = keras.optimizers.RMSprop(learning_rate = 0.0001)\n",
        "\n",
        "model2.compile(optimizer = rmsprop, loss = 'binary_crossentropy',\n",
        "              metrics = ['accuracy'])\n",
        "\n",
        "checkpoint_cb = ModelCheckpoint('best-dropout-model.h5', save_best_only=True)\n",
        "earlystopping_cb = EarlyStopping(patience = 3, restore_best_weights = True)\n",
        "\n",
        "history = model2.fit(train_seq, train_target, epochs = 100, batch_size = 64,\n",
        "                    validation_data = (val_seq, val_target),\n",
        "                    callbacks = [checkpoint_cb, earlystopping_cb])"
      ],
      "execution_count": 11,
      "outputs": [
        {
          "output_type": "stream",
          "name": "stdout",
          "text": [
            "Epoch 1/100\n",
            "313/313 [==============================] - 9s 21ms/step - loss: 0.6925 - accuracy: 0.5473 - val_loss: 0.6918 - val_accuracy: 0.5916\n",
            "Epoch 2/100\n",
            "313/313 [==============================] - 6s 20ms/step - loss: 0.6904 - accuracy: 0.6042 - val_loss: 0.6888 - val_accuracy: 0.6292\n",
            "Epoch 3/100\n",
            "313/313 [==============================] - 6s 19ms/step - loss: 0.6846 - accuracy: 0.6443 - val_loss: 0.6795 - val_accuracy: 0.6672\n",
            "Epoch 4/100\n",
            "313/313 [==============================] - 6s 19ms/step - loss: 0.6561 - accuracy: 0.6744 - val_loss: 0.6252 - val_accuracy: 0.7028\n",
            "Epoch 5/100\n",
            "313/313 [==============================] - 6s 20ms/step - loss: 0.6019 - accuracy: 0.7246 - val_loss: 0.5953 - val_accuracy: 0.7276\n",
            "Epoch 6/100\n",
            "313/313 [==============================] - 6s 20ms/step - loss: 0.5807 - accuracy: 0.7383 - val_loss: 0.5740 - val_accuracy: 0.7388\n",
            "Epoch 7/100\n",
            "313/313 [==============================] - 6s 20ms/step - loss: 0.5632 - accuracy: 0.7487 - val_loss: 0.5596 - val_accuracy: 0.7508\n",
            "Epoch 8/100\n",
            "313/313 [==============================] - 6s 20ms/step - loss: 0.5475 - accuracy: 0.7579 - val_loss: 0.5427 - val_accuracy: 0.7588\n",
            "Epoch 9/100\n",
            "313/313 [==============================] - 6s 20ms/step - loss: 0.5332 - accuracy: 0.7673 - val_loss: 0.5331 - val_accuracy: 0.7604\n",
            "Epoch 10/100\n",
            "313/313 [==============================] - 6s 20ms/step - loss: 0.5209 - accuracy: 0.7711 - val_loss: 0.5184 - val_accuracy: 0.7706\n",
            "Epoch 11/100\n",
            "313/313 [==============================] - 6s 20ms/step - loss: 0.5087 - accuracy: 0.7763 - val_loss: 0.5065 - val_accuracy: 0.7770\n",
            "Epoch 12/100\n",
            "313/313 [==============================] - 6s 20ms/step - loss: 0.4973 - accuracy: 0.7818 - val_loss: 0.4970 - val_accuracy: 0.7794\n",
            "Epoch 13/100\n",
            "313/313 [==============================] - 6s 20ms/step - loss: 0.4873 - accuracy: 0.7843 - val_loss: 0.4881 - val_accuracy: 0.7818\n",
            "Epoch 14/100\n",
            "313/313 [==============================] - 6s 19ms/step - loss: 0.4770 - accuracy: 0.7907 - val_loss: 0.4792 - val_accuracy: 0.7864\n",
            "Epoch 15/100\n",
            "313/313 [==============================] - 6s 20ms/step - loss: 0.4686 - accuracy: 0.7927 - val_loss: 0.4749 - val_accuracy: 0.7848\n",
            "Epoch 16/100\n",
            "313/313 [==============================] - 6s 20ms/step - loss: 0.4621 - accuracy: 0.7980 - val_loss: 0.4682 - val_accuracy: 0.7890\n",
            "Epoch 17/100\n",
            "313/313 [==============================] - 6s 20ms/step - loss: 0.4562 - accuracy: 0.7958 - val_loss: 0.4613 - val_accuracy: 0.7910\n",
            "Epoch 18/100\n",
            "313/313 [==============================] - 6s 20ms/step - loss: 0.4502 - accuracy: 0.7989 - val_loss: 0.4584 - val_accuracy: 0.7926\n",
            "Epoch 19/100\n",
            "313/313 [==============================] - 6s 19ms/step - loss: 0.4456 - accuracy: 0.8015 - val_loss: 0.4573 - val_accuracy: 0.7914\n",
            "Epoch 20/100\n",
            "313/313 [==============================] - 6s 20ms/step - loss: 0.4418 - accuracy: 0.8020 - val_loss: 0.4502 - val_accuracy: 0.7962\n",
            "Epoch 21/100\n",
            "313/313 [==============================] - 6s 19ms/step - loss: 0.4390 - accuracy: 0.8035 - val_loss: 0.4482 - val_accuracy: 0.7966\n",
            "Epoch 22/100\n",
            "313/313 [==============================] - 6s 19ms/step - loss: 0.4362 - accuracy: 0.8041 - val_loss: 0.4457 - val_accuracy: 0.7958\n",
            "Epoch 23/100\n",
            "313/313 [==============================] - 6s 19ms/step - loss: 0.4324 - accuracy: 0.8073 - val_loss: 0.4443 - val_accuracy: 0.7968\n",
            "Epoch 24/100\n",
            "313/313 [==============================] - 6s 19ms/step - loss: 0.4313 - accuracy: 0.8048 - val_loss: 0.4419 - val_accuracy: 0.7978\n",
            "Epoch 25/100\n",
            "313/313 [==============================] - 6s 19ms/step - loss: 0.4316 - accuracy: 0.8067 - val_loss: 0.4424 - val_accuracy: 0.7996\n",
            "Epoch 26/100\n",
            "313/313 [==============================] - 6s 19ms/step - loss: 0.4280 - accuracy: 0.8084 - val_loss: 0.4409 - val_accuracy: 0.7976\n",
            "Epoch 27/100\n",
            "313/313 [==============================] - 6s 20ms/step - loss: 0.4267 - accuracy: 0.8097 - val_loss: 0.4400 - val_accuracy: 0.7992\n",
            "Epoch 28/100\n",
            "313/313 [==============================] - 6s 20ms/step - loss: 0.4264 - accuracy: 0.8066 - val_loss: 0.4391 - val_accuracy: 0.8014\n",
            "Epoch 29/100\n",
            "313/313 [==============================] - 6s 20ms/step - loss: 0.4240 - accuracy: 0.8094 - val_loss: 0.4378 - val_accuracy: 0.7996\n",
            "Epoch 30/100\n",
            "313/313 [==============================] - 6s 19ms/step - loss: 0.4231 - accuracy: 0.8097 - val_loss: 0.4384 - val_accuracy: 0.7984\n",
            "Epoch 31/100\n",
            "313/313 [==============================] - 6s 20ms/step - loss: 0.4228 - accuracy: 0.8084 - val_loss: 0.4369 - val_accuracy: 0.7980\n",
            "Epoch 32/100\n",
            "313/313 [==============================] - 6s 20ms/step - loss: 0.4213 - accuracy: 0.8101 - val_loss: 0.4369 - val_accuracy: 0.7998\n",
            "Epoch 33/100\n",
            "313/313 [==============================] - 6s 20ms/step - loss: 0.4224 - accuracy: 0.8095 - val_loss: 0.4359 - val_accuracy: 0.7990\n",
            "Epoch 34/100\n",
            "313/313 [==============================] - 6s 20ms/step - loss: 0.4221 - accuracy: 0.8090 - val_loss: 0.4357 - val_accuracy: 0.7994\n",
            "Epoch 35/100\n",
            "313/313 [==============================] - 6s 19ms/step - loss: 0.4201 - accuracy: 0.8105 - val_loss: 0.4355 - val_accuracy: 0.8012\n",
            "Epoch 36/100\n",
            "313/313 [==============================] - 6s 20ms/step - loss: 0.4186 - accuracy: 0.8110 - val_loss: 0.4364 - val_accuracy: 0.8012\n",
            "Epoch 37/100\n",
            "313/313 [==============================] - 6s 19ms/step - loss: 0.4179 - accuracy: 0.8116 - val_loss: 0.4348 - val_accuracy: 0.8018\n",
            "Epoch 38/100\n",
            "313/313 [==============================] - 6s 19ms/step - loss: 0.4187 - accuracy: 0.8104 - val_loss: 0.4363 - val_accuracy: 0.7960\n",
            "Epoch 39/100\n",
            "313/313 [==============================] - 6s 19ms/step - loss: 0.4189 - accuracy: 0.8095 - val_loss: 0.4338 - val_accuracy: 0.7994\n",
            "Epoch 40/100\n",
            "313/313 [==============================] - 6s 19ms/step - loss: 0.4184 - accuracy: 0.8104 - val_loss: 0.4346 - val_accuracy: 0.7980\n",
            "Epoch 41/100\n",
            "313/313 [==============================] - 6s 20ms/step - loss: 0.4185 - accuracy: 0.8091 - val_loss: 0.4336 - val_accuracy: 0.7996\n",
            "Epoch 42/100\n",
            "313/313 [==============================] - 6s 20ms/step - loss: 0.4172 - accuracy: 0.8087 - val_loss: 0.4393 - val_accuracy: 0.8010\n",
            "Epoch 43/100\n",
            "313/313 [==============================] - 6s 20ms/step - loss: 0.4171 - accuracy: 0.8102 - val_loss: 0.4346 - val_accuracy: 0.8010\n",
            "Epoch 44/100\n",
            "313/313 [==============================] - 6s 20ms/step - loss: 0.4186 - accuracy: 0.8109 - val_loss: 0.4338 - val_accuracy: 0.8006\n"
          ]
        }
      ]
    },
    {
      "cell_type": "code",
      "metadata": {
        "colab": {
          "base_uri": "https://localhost:8080/",
          "height": 279
        },
        "id": "QNwCE8sw3JrA",
        "outputId": "43c39775-b307-4d7a-842b-80eab42cb60f"
      },
      "source": [
        " plt.plot(history.history['loss'])\n",
        " plt.plot(history.history['val_loss'])\n",
        " plt.xlabel('epoch')\n",
        " plt.ylabel('loss')\n",
        " plt.legend(['train', 'loss'])\n",
        " plt.show()"
      ],
      "execution_count": 12,
      "outputs": [
        {
          "output_type": "display_data",
          "data": {
            "image/png": "[encoded data removed]",
            "text/plain": [
              "<Figure size 432x288 with 1 Axes>"
            ]
          },
          "metadata": {
            "needs_background": "light"
          }
        }
      ]
    },
    {
      "cell_type": "code",
      "metadata": {
        "id": "CCIGsJ9n3KZj"
      },
      "source": [
        "model3 = Sequential()\n",
        "model3.add(Embedding(500, 16, input_length = 100))\n",
        "model3.add(LSTM(8, dropout = 0.3, return_sequences = True))\n",
        "model3.add(LSTM(8, dropout = 0.3))\n",
        "model3.add(Dense(1, activation = 'sigmoid'))"
      ],
      "execution_count": 13,
      "outputs": []
    },
    {
      "cell_type": "code",
      "metadata": {
        "colab": {
          "base_uri": "https://localhost:8080/"
        },
        "id": "WJ-MDxLN3Kbu",
        "outputId": "b5113960-1321-48f1-9137-6c55a0797593"
      },
      "source": [
        "model3.summary()"
      ],
      "execution_count": 14,
      "outputs": [
        {
          "output_type": "stream",
          "name": "stdout",
          "text": [
            "Model: \"sequential_2\"\n",
            "_________________________________________________________________\n",
            "Layer (type)                 Output Shape              Param #   \n",
            "=================================================================\n",
            "embedding_2 (Embedding)      (None, 100, 16)           8000      \n",
            "_________________________________________________________________\n",
            "lstm_2 (LSTM)                (None, 100, 8)            800       \n",
            "_________________________________________________________________\n",
            "lstm_3 (LSTM)                (None, 8)                 544       \n",
            "_________________________________________________________________\n",
            "dense_2 (Dense)              (None, 1)                 9         \n",
            "=================================================================\n",
            "Total params: 9,353\n",
            "Trainable params: 9,353\n",
            "Non-trainable params: 0\n",
            "_________________________________________________________________\n"
          ]
        }
      ]
    },
    {
      "cell_type": "code",
      "metadata": {
        "colab": {
          "base_uri": "https://localhost:8080/"
        },
        "id": "mW-_ej3A3Kd3",
        "outputId": "a45e1355-ceaf-4d3c-f353-ddcfb2d013b7"
      },
      "source": [
        "rmsprop = keras.optimizers.RMSprop(learning_rate = 0.0001)\n",
        "\n",
        "model3.compile(optimizer = rmsprop, loss = 'binary_crossentropy',\n",
        "              metrics = ['accuracy'])\n",
        "\n",
        "checkpoint_cb = ModelCheckpoint('best-2rnn-model.h5', save_best_only=True)\n",
        "earlystopping_cb = EarlyStopping(patience = 3, restore_best_weights = True)\n",
        "\n",
        "history = model3.fit(train_seq, train_target, epochs = 100, batch_size = 64,\n",
        "                    validation_data = (val_seq, val_target),\n",
        "                    callbacks = [checkpoint_cb, earlystopping_cb])"
      ],
      "execution_count": 15,
      "outputs": [
        {
          "output_type": "stream",
          "name": "stdout",
          "text": [
            "Epoch 1/100\n",
            "313/313 [==============================] - 17s 43ms/step - loss: 0.6928 - accuracy: 0.5183 - val_loss: 0.6924 - val_accuracy: 0.5538\n",
            "Epoch 2/100\n",
            "313/313 [==============================] - 13s 41ms/step - loss: 0.6909 - accuracy: 0.5760 - val_loss: 0.6883 - val_accuracy: 0.6436\n",
            "Epoch 3/100\n",
            "313/313 [==============================] - 13s 41ms/step - loss: 0.6723 - accuracy: 0.6492 - val_loss: 0.6370 - val_accuracy: 0.6824\n",
            "Epoch 4/100\n",
            "313/313 [==============================] - 13s 41ms/step - loss: 0.5966 - accuracy: 0.7043 - val_loss: 0.5751 - val_accuracy: 0.7166\n",
            "Epoch 5/100\n",
            "313/313 [==============================] - 13s 41ms/step - loss: 0.5562 - accuracy: 0.7338 - val_loss: 0.5419 - val_accuracy: 0.7422\n",
            "Epoch 6/100\n",
            "313/313 [==============================] - 13s 41ms/step - loss: 0.5308 - accuracy: 0.7501 - val_loss: 0.5239 - val_accuracy: 0.7506\n",
            "Epoch 7/100\n",
            "313/313 [==============================] - 13s 41ms/step - loss: 0.5116 - accuracy: 0.7603 - val_loss: 0.5038 - val_accuracy: 0.7660\n",
            "Epoch 8/100\n",
            "313/313 [==============================] - 13s 41ms/step - loss: 0.4930 - accuracy: 0.7742 - val_loss: 0.4928 - val_accuracy: 0.7728\n",
            "Epoch 9/100\n",
            "313/313 [==============================] - 13s 41ms/step - loss: 0.4835 - accuracy: 0.7787 - val_loss: 0.4832 - val_accuracy: 0.7766\n",
            "Epoch 10/100\n",
            "313/313 [==============================] - 13s 41ms/step - loss: 0.4746 - accuracy: 0.7807 - val_loss: 0.4718 - val_accuracy: 0.7800\n",
            "Epoch 11/100\n",
            "313/313 [==============================] - 13s 41ms/step - loss: 0.4676 - accuracy: 0.7868 - val_loss: 0.4649 - val_accuracy: 0.7834\n",
            "Epoch 12/100\n",
            "313/313 [==============================] - 13s 41ms/step - loss: 0.4579 - accuracy: 0.7918 - val_loss: 0.4623 - val_accuracy: 0.7848\n",
            "Epoch 13/100\n",
            "313/313 [==============================] - 13s 41ms/step - loss: 0.4552 - accuracy: 0.7922 - val_loss: 0.4571 - val_accuracy: 0.7896\n",
            "Epoch 14/100\n",
            "313/313 [==============================] - 13s 41ms/step - loss: 0.4516 - accuracy: 0.7951 - val_loss: 0.4542 - val_accuracy: 0.7896\n",
            "Epoch 15/100\n",
            "313/313 [==============================] - 13s 41ms/step - loss: 0.4477 - accuracy: 0.7970 - val_loss: 0.4505 - val_accuracy: 0.7908\n",
            "Epoch 16/100\n",
            "313/313 [==============================] - 13s 41ms/step - loss: 0.4433 - accuracy: 0.7986 - val_loss: 0.4482 - val_accuracy: 0.7890\n",
            "Epoch 17/100\n",
            "313/313 [==============================] - 13s 41ms/step - loss: 0.4439 - accuracy: 0.7946 - val_loss: 0.4471 - val_accuracy: 0.7918\n",
            "Epoch 18/100\n",
            "313/313 [==============================] - 13s 41ms/step - loss: 0.4427 - accuracy: 0.7972 - val_loss: 0.4493 - val_accuracy: 0.7938\n",
            "Epoch 19/100\n",
            "313/313 [==============================] - 13s 41ms/step - loss: 0.4378 - accuracy: 0.7987 - val_loss: 0.4432 - val_accuracy: 0.7942\n",
            "Epoch 20/100\n",
            "313/313 [==============================] - 13s 41ms/step - loss: 0.4391 - accuracy: 0.7972 - val_loss: 0.4462 - val_accuracy: 0.7942\n",
            "Epoch 21/100\n",
            "313/313 [==============================] - 13s 41ms/step - loss: 0.4361 - accuracy: 0.8017 - val_loss: 0.4413 - val_accuracy: 0.7936\n",
            "Epoch 22/100\n",
            "313/313 [==============================] - 13s 41ms/step - loss: 0.4364 - accuracy: 0.7994 - val_loss: 0.4421 - val_accuracy: 0.7968\n",
            "Epoch 23/100\n",
            "313/313 [==============================] - 13s 41ms/step - loss: 0.4337 - accuracy: 0.8008 - val_loss: 0.4404 - val_accuracy: 0.7982\n",
            "Epoch 24/100\n",
            "313/313 [==============================] - 13s 41ms/step - loss: 0.4308 - accuracy: 0.8031 - val_loss: 0.4386 - val_accuracy: 0.7930\n",
            "Epoch 25/100\n",
            "313/313 [==============================] - 13s 41ms/step - loss: 0.4297 - accuracy: 0.8036 - val_loss: 0.4484 - val_accuracy: 0.7994\n",
            "Epoch 26/100\n",
            "313/313 [==============================] - 13s 41ms/step - loss: 0.4304 - accuracy: 0.8010 - val_loss: 0.4377 - val_accuracy: 0.7938\n",
            "Epoch 27/100\n",
            "313/313 [==============================] - 13s 41ms/step - loss: 0.4278 - accuracy: 0.8050 - val_loss: 0.4374 - val_accuracy: 0.7916\n",
            "Epoch 28/100\n",
            "313/313 [==============================] - 13s 41ms/step - loss: 0.4275 - accuracy: 0.8041 - val_loss: 0.4375 - val_accuracy: 0.7958\n",
            "Epoch 29/100\n",
            "313/313 [==============================] - 13s 41ms/step - loss: 0.4275 - accuracy: 0.8040 - val_loss: 0.4367 - val_accuracy: 0.7984\n",
            "Epoch 30/100\n",
            "313/313 [==============================] - 13s 41ms/step - loss: 0.4253 - accuracy: 0.8062 - val_loss: 0.4384 - val_accuracy: 0.8002\n",
            "Epoch 31/100\n",
            "313/313 [==============================] - 13s 41ms/step - loss: 0.4265 - accuracy: 0.8039 - val_loss: 0.4378 - val_accuracy: 0.8002\n",
            "Epoch 32/100\n",
            "313/313 [==============================] - 13s 41ms/step - loss: 0.4252 - accuracy: 0.8049 - val_loss: 0.4380 - val_accuracy: 0.8012\n"
          ]
        }
      ]
    },
    {
      "cell_type": "code",
      "metadata": {
        "colab": {
          "base_uri": "https://localhost:8080/",
          "height": 279
        },
        "id": "IYriSokX3wP1",
        "outputId": "5a77ac75-4c6e-4fdf-ba84-7fb9a7b707c2"
      },
      "source": [
        " plt.plot(history.history['loss'])\n",
        " plt.plot(history.history['val_loss'])\n",
        " plt.xlabel('epoch')\n",
        " plt.ylabel('loss')\n",
        " plt.legend(['train', 'loss'])\n",
        " plt.show()"
      ],
      "execution_count": 16,
      "outputs": [
        {
          "output_type": "display_data",
          "data": {
            "image/png": "[encoded data removed]",
            "text/plain": [
              "<Figure size 432x288 with 1 Axes>"
            ]
          },
          "metadata": {
            "needs_background": "light"
          }
        }
      ]
    },
    {
      "cell_type": "code",
      "metadata": {
        "id": "p98qv4DM4Dsp"
      },
      "source": [
        "from keras.layers import GRU"
      ],
      "execution_count": 17,
      "outputs": []
    },
    {
      "cell_type": "code",
      "metadata": {
        "id": "2oIsdNCn4A-J"
      },
      "source": [
        "model4 = Sequential()\n",
        "model4.add(Embedding(500, 16, input_length = 100))\n",
        "model4.add(GRU(8))\n",
        "model4.add(Dense(1, activation = 'sigmoid'))"
      ],
      "execution_count": 18,
      "outputs": []
    },
    {
      "cell_type": "code",
      "metadata": {
        "colab": {
          "base_uri": "https://localhost:8080/"
        },
        "id": "xA7P4l3n4BGY",
        "outputId": "5f8c8595-7c95-444f-ccf9-8efa4f015389"
      },
      "source": [
        "model4.summary()"
      ],
      "execution_count": 19,
      "outputs": [
        {
          "output_type": "stream",
          "name": "stdout",
          "text": [
            "Model: \"sequential_3\"\n",
            "_________________________________________________________________\n",
            "Layer (type)                 Output Shape              Param #   \n",
            "=================================================================\n",
            "embedding_3 (Embedding)      (None, 100, 16)           8000      \n",
            "_________________________________________________________________\n",
            "gru (GRU)                    (None, 8)                 624       \n",
            "_________________________________________________________________\n",
            "dense_3 (Dense)              (None, 1)                 9         \n",
            "=================================================================\n",
            "Total params: 8,633\n",
            "Trainable params: 8,633\n",
            "Non-trainable params: 0\n",
            "_________________________________________________________________\n"
          ]
        }
      ]
    },
    {
      "cell_type": "code",
      "metadata": {
        "colab": {
          "base_uri": "https://localhost:8080/"
        },
        "id": "VJAqRfGS4BIu",
        "outputId": "d72fcd3d-0b73-4dd8-b394-2f55d8f8c61a"
      },
      "source": [
        "rmsprop = keras.optimizers.RMSprop(learning_rate = 0.0001)\n",
        "\n",
        "model4.compile(optimizer = rmsprop, loss = 'binary_crossentropy',\n",
        "              metrics = ['accuracy'])\n",
        "\n",
        "checkpoint_cb = ModelCheckpoint('best-gru-model.h5', save_best_only=True)\n",
        "earlystopping_cb = EarlyStopping(patience = 3, restore_best_weights = True)\n",
        "\n",
        "history = model4.fit(train_seq, train_target, epochs = 100, batch_size = 64,\n",
        "                    validation_data = (val_seq, val_target),\n",
        "                    callbacks = [checkpoint_cb, earlystopping_cb])"
      ],
      "execution_count": 20,
      "outputs": [
        {
          "output_type": "stream",
          "name": "stdout",
          "text": [
            "Epoch 1/100\n",
            "313/313 [==============================] - 9s 21ms/step - loss: 0.6922 - accuracy: 0.5257 - val_loss: 0.6909 - val_accuracy: 0.5428\n",
            "Epoch 2/100\n",
            "313/313 [==============================] - 6s 19ms/step - loss: 0.6890 - accuracy: 0.5732 - val_loss: 0.6875 - val_accuracy: 0.5830\n",
            "Epoch 3/100\n",
            "313/313 [==============================] - 6s 19ms/step - loss: 0.6844 - accuracy: 0.5997 - val_loss: 0.6820 - val_accuracy: 0.6046\n",
            "Epoch 4/100\n",
            "313/313 [==============================] - 6s 19ms/step - loss: 0.6769 - accuracy: 0.6213 - val_loss: 0.6732 - val_accuracy: 0.6176\n",
            "Epoch 5/100\n",
            "313/313 [==============================] - 6s 19ms/step - loss: 0.6648 - accuracy: 0.6371 - val_loss: 0.6592 - val_accuracy: 0.6342\n",
            "Epoch 6/100\n",
            "313/313 [==============================] - 6s 19ms/step - loss: 0.6444 - accuracy: 0.6594 - val_loss: 0.6346 - val_accuracy: 0.6624\n",
            "Epoch 7/100\n",
            "313/313 [==============================] - 6s 20ms/step - loss: 0.6079 - accuracy: 0.6894 - val_loss: 0.5856 - val_accuracy: 0.7058\n",
            "Epoch 8/100\n",
            "313/313 [==============================] - 6s 20ms/step - loss: 0.5358 - accuracy: 0.7383 - val_loss: 0.5110 - val_accuracy: 0.7498\n",
            "Epoch 9/100\n",
            "313/313 [==============================] - 6s 19ms/step - loss: 0.4915 - accuracy: 0.7638 - val_loss: 0.4887 - val_accuracy: 0.7642\n",
            "Epoch 10/100\n",
            "313/313 [==============================] - 6s 19ms/step - loss: 0.4728 - accuracy: 0.7768 - val_loss: 0.4769 - val_accuracy: 0.7712\n",
            "Epoch 11/100\n",
            "313/313 [==============================] - 6s 19ms/step - loss: 0.4601 - accuracy: 0.7853 - val_loss: 0.4692 - val_accuracy: 0.7768\n",
            "Epoch 12/100\n",
            "313/313 [==============================] - 6s 20ms/step - loss: 0.4509 - accuracy: 0.7929 - val_loss: 0.4581 - val_accuracy: 0.7852\n",
            "Epoch 13/100\n",
            "313/313 [==============================] - 6s 20ms/step - loss: 0.4434 - accuracy: 0.7981 - val_loss: 0.4544 - val_accuracy: 0.7878\n",
            "Epoch 14/100\n",
            "313/313 [==============================] - 6s 19ms/step - loss: 0.4379 - accuracy: 0.8020 - val_loss: 0.4509 - val_accuracy: 0.7936\n",
            "Epoch 15/100\n",
            "313/313 [==============================] - 6s 19ms/step - loss: 0.4332 - accuracy: 0.8041 - val_loss: 0.4483 - val_accuracy: 0.7892\n",
            "Epoch 16/100\n",
            "313/313 [==============================] - 6s 19ms/step - loss: 0.4298 - accuracy: 0.8070 - val_loss: 0.4452 - val_accuracy: 0.7980\n",
            "Epoch 17/100\n",
            "313/313 [==============================] - 6s 19ms/step - loss: 0.4267 - accuracy: 0.8087 - val_loss: 0.4447 - val_accuracy: 0.7908\n",
            "Epoch 18/100\n",
            "313/313 [==============================] - 6s 19ms/step - loss: 0.4248 - accuracy: 0.8097 - val_loss: 0.4431 - val_accuracy: 0.7952\n",
            "Epoch 19/100\n",
            "313/313 [==============================] - 6s 19ms/step - loss: 0.4226 - accuracy: 0.8109 - val_loss: 0.4444 - val_accuracy: 0.7968\n",
            "Epoch 20/100\n",
            "313/313 [==============================] - 6s 19ms/step - loss: 0.4211 - accuracy: 0.8127 - val_loss: 0.4433 - val_accuracy: 0.7934\n",
            "Epoch 21/100\n",
            "313/313 [==============================] - 6s 20ms/step - loss: 0.4198 - accuracy: 0.8124 - val_loss: 0.4418 - val_accuracy: 0.7974\n",
            "Epoch 22/100\n",
            "313/313 [==============================] - 6s 19ms/step - loss: 0.4188 - accuracy: 0.8144 - val_loss: 0.4415 - val_accuracy: 0.7974\n",
            "Epoch 23/100\n",
            "313/313 [==============================] - 6s 19ms/step - loss: 0.4178 - accuracy: 0.8134 - val_loss: 0.4484 - val_accuracy: 0.7956\n",
            "Epoch 24/100\n",
            "313/313 [==============================] - 6s 19ms/step - loss: 0.4171 - accuracy: 0.8140 - val_loss: 0.4408 - val_accuracy: 0.7974\n",
            "Epoch 25/100\n",
            "313/313 [==============================] - 6s 19ms/step - loss: 0.4161 - accuracy: 0.8145 - val_loss: 0.4418 - val_accuracy: 0.7946\n",
            "Epoch 26/100\n",
            "313/313 [==============================] - 6s 20ms/step - loss: 0.4157 - accuracy: 0.8156 - val_loss: 0.4399 - val_accuracy: 0.7970\n",
            "Epoch 27/100\n",
            "313/313 [==============================] - 6s 20ms/step - loss: 0.4150 - accuracy: 0.8153 - val_loss: 0.4401 - val_accuracy: 0.7968\n",
            "Epoch 28/100\n",
            "313/313 [==============================] - 6s 20ms/step - loss: 0.4142 - accuracy: 0.8159 - val_loss: 0.4400 - val_accuracy: 0.7978\n",
            "Epoch 29/100\n",
            "313/313 [==============================] - 6s 19ms/step - loss: 0.4139 - accuracy: 0.8173 - val_loss: 0.4396 - val_accuracy: 0.7974\n",
            "Epoch 30/100\n",
            "313/313 [==============================] - 6s 19ms/step - loss: 0.4133 - accuracy: 0.8160 - val_loss: 0.4467 - val_accuracy: 0.7900\n",
            "Epoch 31/100\n",
            "313/313 [==============================] - 6s 19ms/step - loss: 0.4136 - accuracy: 0.8160 - val_loss: 0.4390 - val_accuracy: 0.7974\n",
            "Epoch 32/100\n",
            "313/313 [==============================] - 6s 20ms/step - loss: 0.4131 - accuracy: 0.8148 - val_loss: 0.4398 - val_accuracy: 0.7946\n",
            "Epoch 33/100\n",
            "313/313 [==============================] - 6s 20ms/step - loss: 0.4121 - accuracy: 0.8154 - val_loss: 0.4384 - val_accuracy: 0.8004\n",
            "Epoch 34/100\n",
            "313/313 [==============================] - 6s 20ms/step - loss: 0.4116 - accuracy: 0.8166 - val_loss: 0.4408 - val_accuracy: 0.7968\n",
            "Epoch 35/100\n",
            "313/313 [==============================] - 6s 20ms/step - loss: 0.4117 - accuracy: 0.8167 - val_loss: 0.4371 - val_accuracy: 0.7992\n",
            "Epoch 36/100\n",
            "313/313 [==============================] - 6s 19ms/step - loss: 0.4115 - accuracy: 0.8167 - val_loss: 0.4398 - val_accuracy: 0.7978\n",
            "Epoch 37/100\n",
            "313/313 [==============================] - 6s 19ms/step - loss: 0.4110 - accuracy: 0.8147 - val_loss: 0.4385 - val_accuracy: 0.7952\n",
            "Epoch 38/100\n",
            "313/313 [==============================] - 6s 20ms/step - loss: 0.4108 - accuracy: 0.8173 - val_loss: 0.4366 - val_accuracy: 0.8000\n",
            "Epoch 39/100\n",
            "313/313 [==============================] - 6s 20ms/step - loss: 0.4105 - accuracy: 0.8166 - val_loss: 0.4362 - val_accuracy: 0.8002\n",
            "Epoch 40/100\n",
            "313/313 [==============================] - 6s 19ms/step - loss: 0.4100 - accuracy: 0.8173 - val_loss: 0.4363 - val_accuracy: 0.7996\n",
            "Epoch 41/100\n",
            "313/313 [==============================] - 6s 19ms/step - loss: 0.4098 - accuracy: 0.8170 - val_loss: 0.4365 - val_accuracy: 0.8022\n",
            "Epoch 42/100\n",
            "313/313 [==============================] - 6s 19ms/step - loss: 0.4095 - accuracy: 0.8173 - val_loss: 0.4366 - val_accuracy: 0.7990\n"
          ]
        }
      ]
    },
    {
      "cell_type": "code",
      "metadata": {
        "colab": {
          "base_uri": "https://localhost:8080/",
          "height": 279
        },
        "id": "SguUgMd84BK3",
        "outputId": "3d9aa5c4-1a45-4465-e0d8-523f5318cab7"
      },
      "source": [
        "plt.plot(history.history['loss'])\n",
        "plt.plot(history.history['val_loss'])\n",
        "plt.xlabel('epoch')\n",
        "plt.ylabel('loss')\n",
        "plt.legend(['train', 'loss'])\n",
        "plt.show()"
      ],
      "execution_count": 22,
      "outputs": [
        {
          "output_type": "display_data",
          "data": {
            "image/png": "[encoded data removed]",
            "text/plain": [
              "<Figure size 432x288 with 1 Axes>"
            ]
          },
          "metadata": {
            "needs_background": "light"
          }
        }
      ]
    },
    {
      "cell_type": "code",
      "metadata": {
        "colab": {
          "base_uri": "https://localhost:8080/"
        },
        "id": "2PP6k4gr4BM6",
        "outputId": "5f6eae8d-f8f5-49ce-87ce-cffb1b0d024a"
      },
      "source": [
        "test_seq = pad_sequences(test_input, maxlen = 100)\n",
        "rnn_model = keras.models.load_model('best-2rnn-model.h5')\n",
        "rnn_model.evaluate(test_seq, test_target)"
      ],
      "execution_count": 23,
      "outputs": [
        {
          "output_type": "stream",
          "name": "stdout",
          "text": [
            "782/782 [==============================] - 12s 15ms/step - loss: 0.4322 - accuracy: 0.7974\n"
          ]
        },
        {
          "output_type": "execute_result",
          "data": {
            "text/plain": [
              "[0.432219535112381, 0.7973999977111816]"
            ]
          },
          "metadata": {},
          "execution_count": 23
        }
      ]
    },
    {
      "cell_type": "code",
      "metadata": {
        "id": "HvI191t94BW7"
      },
      "source": [
        ""
      ],
      "execution_count": null,
      "outputs": []
    }
  ]
}